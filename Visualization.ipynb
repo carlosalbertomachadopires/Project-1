{
 "cells": [
  {
   "cell_type": "code",
   "execution_count": null,
   "metadata": {},
   "outputs": [],
   "source": [
    "# Dependencies and Setup\n",
    "import matplotlib.pyplot as plt\n",
    "import pandas as pd\n",
    "import scipy.stats as st\n",
    "import numpy as np\n",
    "\n",
    "# Study data files\n",
    "dem_candidates_path = \"Project-1/dem_candidate.csv\"\n",
    "rep_candidates_path = \"Project-1/rep_candidate.csv\"\n",
    "\n",
    "# Read the data and the study results\n",
    "dem_candidate = pd.read_csv(dem_candidates_path)\n",
    "rep_candidate = pd.read_csv(rep_candidates_path)\n",
    "\n",
    "# Combine the data into a single dataset\n",
    "combined_results_df = pd.merge(dem_candidate, rep_candidate, how = 'outer', on= 'Candidate ID')\n",
    "\n",
    "# Display the data table for preview\n",
    "combined_results_df"
   ]
  }
 ],
 "metadata": {
  "environment": {
   "name": "common-cpu.m54",
   "type": "gcloud",
   "uri": "gcr.io/deeplearning-platform-release/base-cpu:m54"
  },
  "kernelspec": {
   "display_name": "Python 3",
   "language": "python",
   "name": "python3"
  },
  "language_info": {
   "codemirror_mode": {
    "name": "ipython",
    "version": 3
   },
   "file_extension": ".py",
   "mimetype": "text/x-python",
   "name": "python",
   "nbconvert_exporter": "python",
   "pygments_lexer": "ipython3",
   "version": "3.7.8"
  }
 },
 "nbformat": 4,
 "nbformat_minor": 4
}
