{
 "cells": [
  {
   "cell_type": "code",
   "execution_count": 1,
   "metadata": {},
   "outputs": [],
   "source": [
    "import pandas as pd\n",
    "import requests\n",
    "from config import api_key\n",
    "import json"
   ]
  },
  {
   "cell_type": "code",
   "execution_count": null,
   "metadata": {},
   "outputs": [],
   "source": [
    "url=\"https://api.open.fec.gov/v1/schedules/schedule_a/by_state/by_candidate/\"\n",
    "\n",
    "\n",
    "\n",
    "\n",
    "\n",
    "params={\n",
    "     \"election_full\": False,\n",
    "    \"sort_hide_null\": False,\n",
    "    \"cycle\": 2018,\n",
    "    \"api_key\": api_key,\n",
    "    \"sort_nulls_last\": False,\n",
    "    \"sort_null_only\": False,\n",
    "    \"page\": 1,\n",
    "    \"per_page\":  20,\n",
    "    \"candidate_id\": dem_id\n",
    "    \n",
    "    \n",
    "}\n"
   ]
  }
 ],
 "metadata": {
  "environment": {
   "name": "common-cpu.m54",
   "type": "gcloud",
   "uri": "gcr.io/deeplearning-platform-release/base-cpu:m54"
  },
  "kernelspec": {
   "display_name": "Python 3",
   "language": "python",
   "name": "python3"
  },
  "language_info": {
   "codemirror_mode": {
    "name": "ipython",
    "version": 3
   },
   "file_extension": ".py",
   "mimetype": "text/x-python",
   "name": "python",
   "nbconvert_exporter": "python",
   "pygments_lexer": "ipython3",
   "version": "3.7.8"
  }
 },
 "nbformat": 4,
 "nbformat_minor": 4
}
